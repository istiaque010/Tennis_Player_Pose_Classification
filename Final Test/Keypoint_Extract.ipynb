{
 "cells": [
  {
   "cell_type": "code",
   "execution_count": 2,
   "id": "9b669f3c",
   "metadata": {},
   "outputs": [
    {
     "name": "stdout",
     "output_type": "stream",
     "text": [
      "Annotations saved to C:\\Users\\Istiaque Ahmed\\Documents\\AIDojo\\Keypoint-Based\\Final Test\\InputImage_and_json\\iputJSON.json\n"
     ]
    }
   ],
   "source": [
    "import os\n",
    "import cv2\n",
    "import mediapipe as mp\n",
    "import json\n",
    "\n",
    "# Paths\n",
    "image_folder = r'C:\\Users\\Istiaque Ahmed\\Documents\\AIDojo\\Keypoint-Based\\Final Test\\InputImage_and_json'\n",
    "output_json_path = r'C:\\Users\\Istiaque Ahmed\\Documents\\AIDojo\\Keypoint-Based\\Final Test\\InputImage_and_json\\iputJSON.json'\n",
    "\n",
    "# Create Mediapipe Pose instance\n",
    "mp_pose = mp.solutions.pose\n",
    "pose = mp_pose.Pose(static_image_mode=True, min_detection_confidence=0.5)\n",
    "\n",
    "# Initialize JSON structure\n",
    "coco_format = {\"images\": [], \"annotations\": []}\n",
    "image_id = 10000\n",
    "\n",
    "# Process each image in the folder\n",
    "for image_filename in os.listdir(image_folder):\n",
    "    if image_filename.lower().endswith(('.jpeg', '.jpg', '.png')):\n",
    "        image_path = os.path.join(image_folder, image_filename)\n",
    "        image = cv2.imread(image_path)\n",
    "        height, width, _ = image.shape\n",
    "        \n",
    "        # Add image metadata\n",
    "        image_id += 1\n",
    "        coco_format[\"images\"].append({\n",
    "            \"id\": image_id,\n",
    "            \"dataset_id\": 10,\n",
    "            \"path\": os.path.join(\"..\", \"images\", \"backhand\", image_filename),\n",
    "            \"width\": width,\n",
    "            \"height\": height,\n",
    "            \"file_name\": image_filename\n",
    "        })\n",
    "\n",
    "        # Convert BGR image to RGB and process\n",
    "        rgb_image = cv2.cvtColor(image, cv2.COLOR_BGR2RGB)\n",
    "        results = pose.process(rgb_image)\n",
    "\n",
    "        # Check for landmarks\n",
    "        if results.pose_landmarks:\n",
    "            keypoints = []\n",
    "            for lm in results.pose_landmarks.landmark:\n",
    "                x, y, v = lm.x * width, lm.y * height, lm.visibility\n",
    "                keypoints.extend([x, y, v])\n",
    "\n",
    "            # Append annotation data\n",
    "            coco_format[\"annotations\"].append({\n",
    "                \"image_id\": image_id,\n",
    "                \"keypoints\": keypoints\n",
    "            })\n",
    "\n",
    "# Save to JSON file\n",
    "with open(output_json_path, 'w') as f:\n",
    "    json.dump(coco_format, f, indent=4)\n",
    "\n",
    "print(f\"Annotations saved to {output_json_path}\")\n",
    "pose.close()"
   ]
  },
  {
   "cell_type": "code",
   "execution_count": null,
   "id": "515de437",
   "metadata": {},
   "outputs": [],
   "source": []
  },
  {
   "cell_type": "code",
   "execution_count": null,
   "id": "e891c75b",
   "metadata": {},
   "outputs": [],
   "source": []
  }
 ],
 "metadata": {
  "kernelspec": {
   "display_name": "Python 3 (ipykernel)",
   "language": "python",
   "name": "python3"
  },
  "language_info": {
   "codemirror_mode": {
    "name": "ipython",
    "version": 3
   },
   "file_extension": ".py",
   "mimetype": "text/x-python",
   "name": "python",
   "nbconvert_exporter": "python",
   "pygments_lexer": "ipython3",
   "version": "3.11.3"
  }
 },
 "nbformat": 4,
 "nbformat_minor": 5
}
