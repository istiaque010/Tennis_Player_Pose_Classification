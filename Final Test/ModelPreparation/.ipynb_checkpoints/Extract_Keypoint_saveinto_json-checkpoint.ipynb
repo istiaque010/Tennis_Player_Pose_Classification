{
 "cells": [
  {
   "cell_type": "code",
   "execution_count": 1,
   "id": "60d6201c",
   "metadata": {},
   "outputs": [
    {
     "name": "stderr",
     "output_type": "stream",
     "text": [
      "C:\\Users\\Istiaque Ahmed\\anaconda3\\Lib\\site-packages\\google\\protobuf\\symbol_database.py:55: UserWarning: SymbolDatabase.GetPrototype() is deprecated. Please use message_factory.GetMessageClass() instead. SymbolDatabase.GetPrototype() will be removed soon.\n",
      "  warnings.warn('SymbolDatabase.GetPrototype() is deprecated. Please '\n"
     ]
    },
    {
     "name": "stdout",
     "output_type": "stream",
     "text": [
      "Annotations for 'backhand' saved to C:\\Users\\Istiaque Ahmed\\Documents\\AIDojo\\Keypoint-Based\\Final Test\\ModelPreparation\\backhand.json\n",
      "Annotations for 'forehand' saved to C:\\Users\\Istiaque Ahmed\\Documents\\AIDojo\\Keypoint-Based\\Final Test\\ModelPreparation\\forehand.json\n",
      "Annotations for 'ready_position' saved to C:\\Users\\Istiaque Ahmed\\Documents\\AIDojo\\Keypoint-Based\\Final Test\\ModelPreparation\\ready_position.json\n",
      "Annotations for 'serve' saved to C:\\Users\\Istiaque Ahmed\\Documents\\AIDojo\\Keypoint-Based\\Final Test\\ModelPreparation\\serve.json\n"
     ]
    }
   ],
   "source": [
    "import os\n",
    "import cv2\n",
    "import mediapipe as mp\n",
    "import json\n",
    "\n",
    "# Base paths\n",
    "base_image_folder = r'C:\\Users\\Istiaque Ahmed\\Documents\\AIDojo\\Keypoint-Based\\Final Test\\Dataset\\images'\n",
    "output_folder = r'C:\\Users\\Istiaque Ahmed\\Documents\\AIDojo\\Keypoint-Based\\Final Test\\ModelPreparation'\n",
    "\n",
    "# Classes and corresponding folders\n",
    "classes = ['backhand', 'forehand', 'ready_position', 'serve']\n",
    "\n",
    "# Create Mediapipe Pose instance\n",
    "mp_pose = mp.solutions.pose\n",
    "pose = mp_pose.Pose(static_image_mode=True, min_detection_confidence=0.5)\n",
    "\n",
    "# Process each class folder\n",
    "for class_name in classes:\n",
    "    image_folder = os.path.join(base_image_folder, class_name)\n",
    "    output_json_path = os.path.join(output_folder, f'{class_name}.json')\n",
    "\n",
    "    # Initialize JSON structure for the current class\n",
    "    coco_format = {\"images\": [], \"annotations\": []}\n",
    "    image_id = 10000\n",
    "\n",
    "    # Process each image in the folder\n",
    "    for image_filename in os.listdir(image_folder):\n",
    "        if image_filename.lower().endswith(('.jpeg', '.jpg', '.png')):\n",
    "            image_path = os.path.join(image_folder, image_filename)\n",
    "            image = cv2.imread(image_path)\n",
    "            if image is None:\n",
    "                print(f\"Error reading image: {image_path}\")\n",
    "                continue\n",
    "            height, width, _ = image.shape\n",
    "\n",
    "            # Add image metadata\n",
    "            image_id += 1\n",
    "            coco_format[\"images\"].append({\n",
    "                \"id\": image_id,\n",
    "                \"dataset_id\": 10,\n",
    "                \"path\": os.path.join(\"..\", \"images\", class_name, image_filename),\n",
    "                \"width\": width,\n",
    "                \"height\": height,\n",
    "                \"file_name\": image_filename\n",
    "            })\n",
    "\n",
    "            # Convert BGR image to RGB and process\n",
    "            rgb_image = cv2.cvtColor(image, cv2.COLOR_BGR2RGB)\n",
    "            results = pose.process(rgb_image)\n",
    "\n",
    "            # Check for landmarks\n",
    "            if results.pose_landmarks:\n",
    "                keypoints = []\n",
    "                for lm in results.pose_landmarks.landmark:\n",
    "                    x, y, v = lm.x * width, lm.y * height, lm.visibility\n",
    "                    keypoints.extend([x, y, v])\n",
    "\n",
    "                # Append annotation data\n",
    "                coco_format[\"annotations\"].append({\n",
    "                    \"image_id\": image_id,\n",
    "                    \"keypoints\": keypoints\n",
    "                })\n",
    "\n",
    "    # Save JSON file for the current class\n",
    "    with open(output_json_path, 'w') as f:\n",
    "        json.dump(coco_format, f, indent=4)\n",
    "\n",
    "    print(f\"Annotations for '{class_name}' saved to {output_json_path}\")\n",
    "\n",
    "pose.close()\n"
   ]
  },
  {
   "cell_type": "code",
   "execution_count": null,
   "id": "cd8d07c7",
   "metadata": {},
   "outputs": [],
   "source": []
  }
 ],
 "metadata": {
  "kernelspec": {
   "display_name": "Python 3 (ipykernel)",
   "language": "python",
   "name": "python3"
  },
  "language_info": {
   "codemirror_mode": {
    "name": "ipython",
    "version": 3
   },
   "file_extension": ".py",
   "mimetype": "text/x-python",
   "name": "python",
   "nbconvert_exporter": "python",
   "pygments_lexer": "ipython3",
   "version": "3.11.3"
  }
 },
 "nbformat": 4,
 "nbformat_minor": 5
}
